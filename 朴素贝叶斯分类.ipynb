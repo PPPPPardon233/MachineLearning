{
 "cells": [
  {
   "cell_type": "markdown",
   "id": "ea4c3a40",
   "metadata": {},
   "source": [
    "## 作业四-朴素贝叶斯分类器\n",
    "#### 计算机科学与技术\n",
    "#### 2012009 李彦泽"
   ]
  },
  {
   "cell_type": "code",
   "execution_count": 1,
   "id": "4bd6d8b1",
   "metadata": {},
   "outputs": [],
   "source": [
    "import math\n",
    "import numpy as np  \n",
    "import pandas as pd\n",
    "import matplotlib.pyplot as plt"
   ]
  },
  {
   "cell_type": "markdown",
   "id": "e1beee44",
   "metadata": {},
   "source": [
    "## 初级要求"
   ]
  },
  {
   "cell_type": "code",
   "execution_count": 2,
   "id": "67d7d72b",
   "metadata": {},
   "outputs": [],
   "source": [
    "#获得均值和方差\n",
    "\n",
    "def cal_para(sample):\n",
    "    mean = np.mean(sample, 0)\n",
    "    var = np.var(sample, 0)\n",
    "    return mean, var"
   ]
  },
  {
   "cell_type": "code",
   "execution_count": 14,
   "id": "cf9986d8",
   "metadata": {},
   "outputs": [],
   "source": [
    "#根据高斯分布公式和贝叶斯公式计算概率\n",
    "\n",
    "def cal_prob(test_vec, train_sample, total):\n",
    "    mean, var = cal_para(train_sample)\n",
    "    prob = (1 / np.sqrt(2*np.pi*var)) * np.exp(-np.square(test_vec - mean) / (2*var))\n",
    "    likelihood = 1\n",
    "    for each in prob:\n",
    "        likelihood *= each\n",
    "    return len(train_sample) / total * likelihood"
   ]
  },
  {
   "cell_type": "code",
   "execution_count": 4,
   "id": "fb366bbc",
   "metadata": {},
   "outputs": [],
   "source": [
    "#数据处理\n",
    "\n",
    "f      = open('wine.data','r')\n",
    "types  = [[],[],[]]                      \n",
    "myline = '1'\n",
    "\n",
    "while myline:\n",
    "    myline = f.readline().split(',')\n",
    "    if len(myline) != 14:\n",
    "        break\n",
    "    for t in range(len(myline)):\n",
    "        if t == 0:\n",
    "            myline[t] = int(myline[t])\n",
    "        else:\n",
    "            myline[t] = float(myline[t])\n",
    "    temp = myline.pop(0)\n",
    "    types[temp - 1].append(myline)"
   ]
  },
  {
   "cell_type": "code",
   "execution_count": 5,
   "id": "574e97a3",
   "metadata": {},
   "outputs": [],
   "source": [
    "#训练集和测试集的划分\n",
    "\n",
    "train_sample1 = []\n",
    "train_sample2 = []\n",
    "train_sample3 = []\n",
    "test_sample   = []\n",
    "test_label    = []\n",
    "fold          = 5\n",
    "\n",
    "for i in range(len(types[0])):\n",
    "    if i % fold != 0:\n",
    "        train_sample1.append(types[0][i])\n",
    "    else:\n",
    "        test_sample.append(types[0][i])\n",
    "        test_label.append(1)\n",
    "for i in range(len(types[1])):\n",
    "    if i % fold != 0:\n",
    "        train_sample2.append(types[1][i])\n",
    "    else:\n",
    "        test_sample.append(types[1][i])\n",
    "        test_label.append(2)\n",
    "for i in range(len(types[2])):\n",
    "    if i % fold != 0:\n",
    "        train_sample3.append(types[2][i])\n",
    "    else:\n",
    "        test_sample.append(types[2][i])\n",
    "        test_label.append(3)\n",
    "\n",
    "train_sample1 = np.array(train_sample1)\n",
    "train_sample2 = np.array(train_sample2)\n",
    "train_sample3 = np.array(train_sample3)"
   ]
  },
  {
   "cell_type": "code",
   "execution_count": 15,
   "id": "bd69fab6",
   "metadata": {},
   "outputs": [],
   "source": [
    "#利用贝叶斯分类器进行分类\n",
    "\n",
    "total      = len(train_sample1) + len(train_sample2) + len(train_sample3)\n",
    "pre_label  = []\n",
    "pre_score1 = []\n",
    "pre_score2 = []\n",
    "pre_score3 = []\n",
    "\n",
    "for each in test_sample:\n",
    "    prob1 = cal_prob(each, train_sample1, total)\n",
    "    prob2 = cal_prob(each, train_sample2, total)\n",
    "    prob3 = cal_prob(each, train_sample3, total)\n",
    "    if max([prob1, prob2, prob3]) == prob1:\n",
    "        pre_label.append(1)\n",
    "    elif max([prob1, prob2, prob3]) == prob2:\n",
    "        pre_label.append(2)\n",
    "    else:\n",
    "        pre_label.append(3)\n",
    "    pre_score1.append(prob1)\n",
    "    pre_score2.append(prob2)\n",
    "    pre_score3.append(prob3)"
   ]
  },
  {
   "cell_type": "code",
   "execution_count": 7,
   "id": "8666a8f6",
   "metadata": {},
   "outputs": [
    {
     "name": "stdout",
     "output_type": "stream",
     "text": [
      "0.972972972972973\n"
     ]
    }
   ],
   "source": [
    "#计算分类准确率\n",
    "\n",
    "num = 0\n",
    "\n",
    "for i in range(len(pre_label)):\n",
    "    if(pre_label[i]==test_label[i]):\n",
    "        num += 1\n",
    "\n",
    "print(num/len(pre_label))"
   ]
  },
  {
   "cell_type": "markdown",
   "id": "6cd3b419",
   "metadata": {},
   "source": [
    "## 中级要求"
   ]
  },
  {
   "cell_type": "code",
   "execution_count": 8,
   "id": "6698dffa",
   "metadata": {},
   "outputs": [],
   "source": [
    "#使用测试集评估模型，得到混淆矩阵，精度，召回率，F值\n",
    "\n",
    "cm = np.zeros((3, 3))\n",
    "\n",
    "for i in range(len(test_label)):\n",
    "    cm[int(test_label[i]) - 1, pre_label[i] - 1] += 1\n",
    "\n",
    "tp1 = cm[0, 0]\n",
    "tp2 = cm[1, 1]\n",
    "tp3 = cm[2, 2]\n",
    "fn1 = cm[0, 1] + cm[0, 2]\n",
    "fn2 = cm[1, 0] + cm[1, 2]\n",
    "fn3 = cm[2, 0] + cm[2, 1]\n",
    "fp1 = cm[1, 0] + cm[2, 0]\n",
    "fp2 = cm[0, 1] + cm[2, 1]\n",
    "fp3 = cm[0, 2] + cm[1, 2]\n",
    "tn1 = cm[1, 1] + cm[1, 2] + cm[2, 1] + cm[2, 2]\n",
    "tn2 = cm[0, 0] + cm[0, 2] + cm[2, 0] + cm[2, 2]\n",
    "tn3 = cm[0, 0] + cm[0, 1] + cm[1, 0] + cm[1, 1]\n",
    "\n",
    "precision1 = tp1 / (tp1 + fp1)\n",
    "precision2 = tp2 / (tp2 + fp2)\n",
    "precision3 = tp3 / (tp3 + fp3)\n",
    "\n",
    "recall1 = tp1 / (tp1 + fn1)\n",
    "recall2 = tp2 / (tp2 + fn2)\n",
    "recall3 = tp3 / (tp3 + fn3)\n",
    "\n",
    "f1 = (2*precision1*recall1) / (precision1 + recall1)\n",
    "f2 = (2*precision2*recall2) / (precision2 + recall2)\n",
    "f3 = (2*precision3*recall3) / (precision3 + recall3)"
   ]
  },
  {
   "cell_type": "code",
   "execution_count": 9,
   "id": "e3068b89",
   "metadata": {},
   "outputs": [
    {
     "name": "stdout",
     "output_type": "stream",
     "text": [
      "[[11.  1.  0.]\n",
      " [ 0. 15.  0.]\n",
      " [ 0.  0. 10.]] 1.0 0.9375 1.0 0.9166666666666666 1.0 1.0 0.9565217391304348 0.967741935483871 1.0\n"
     ]
    }
   ],
   "source": [
    "#输出结果\n",
    "\n",
    "print(cm, precision1, precision2, precision3, recall1, recall2, recall3, f1, f2, f3)"
   ]
  },
  {
   "cell_type": "markdown",
   "id": "d5bad673",
   "metadata": {},
   "source": [
    "## 高级要求"
   ]
  },
  {
   "cell_type": "code",
   "execution_count": 28,
   "id": "032b7e31",
   "metadata": {},
   "outputs": [],
   "source": [
    "#绘制ROC曲线计算AUC值\n",
    "\n",
    "def RocAuc(pre_score,testlabel):\n",
    "    fpr = []\n",
    "    tpr = []\n",
    "    auc = 0\n",
    "    \n",
    "    for i in np.argsort(pre_score)[::-1]:\n",
    "        threshold = pre_score[i]\n",
    "        if threshold == np.max(pre_score):\n",
    "            fpr.append(0)\n",
    "            tpr.append(0)\n",
    "            continue\n",
    "        elif threshold == np.min(pre_score):\n",
    "            fpr.append(1)\n",
    "            tpr.append(1)\n",
    "            continue\n",
    "        tp = 0\n",
    "        fp = 0\n",
    "        fn = 0\n",
    "        tn = 0\n",
    "        for j in np.argsort(pre_score)[::-1]:\n",
    "            if pre_score[j] >= threshold:\n",
    "                if test_label[j] == testlabel:\n",
    "                    tp += 1\n",
    "                else:\n",
    "                    fp += 1\n",
    "            else:\n",
    "                if test_label[j] == testlabel:\n",
    "                    fn += 1\n",
    "                else:\n",
    "                    tn += 1\n",
    "        fpr.append(fp / (fp + tn))\n",
    "        tpr.append(tp / (tp + fn))\n",
    "    \n",
    "    for i in range(1, len(fpr)):\n",
    "        auc += 0.5 * (fpr[i] - fpr[i - 1]) * (tpr[i] + tpr[i - 1])\n",
    "        \n",
    "    plt.title('ROC')\n",
    "    plt.plot(fpr, tpr, color='green', label='ROC')\n",
    "    plt.legend()\n",
    "    plt.xlabel('False positive rate')\n",
    "    plt.ylabel('True positive rate')\n",
    "    plt.show()\n",
    "    print(auc)"
   ]
  },
  {
   "cell_type": "code",
   "execution_count": 29,
   "id": "91288093",
   "metadata": {},
   "outputs": [
    {
     "data": {
      "image/png": "[encoded data removed]",
      "text/plain": [
       "<Figure size 640x480 with 1 Axes>"
      ]
     },
     "metadata": {},
     "output_type": "display_data"
    },
    {
     "name": "stdout",
     "output_type": "stream",
     "text": [
      "0.9866666666666667\n"
     ]
    },
    {
     "data": {
      "image/png": "[encoded data removed]",
      "text/plain": [
       "<Figure size 640x480 with 1 Axes>"
      ]
     },
     "metadata": {},
     "output_type": "display_data"
    },
    {
     "name": "stdout",
     "output_type": "stream",
     "text": [
      "0.9454545454545454\n"
     ]
    },
    {
     "data": {
      "image/png": "[encoded data removed]",
      "text/plain": [
       "<Figure size 640x480 with 1 Axes>"
      ]
     },
     "metadata": {},
     "output_type": "display_data"
    },
    {
     "name": "stdout",
     "output_type": "stream",
     "text": [
      "1.0\n"
     ]
    }
   ],
   "source": [
    "#可视化结果\n",
    "\n",
    "RocAuc(pre_score1,1)\n",
    "RocAuc(pre_score2,2)\n",
    "RocAuc(pre_score3,3)"
   ]
  },
  {
   "cell_type": "code",
   "execution_count": null,
   "id": "577f6498",
   "metadata": {},
   "outputs": [],
   "source": []
  }
 ],
 "metadata": {
  "kernelspec": {
   "display_name": "Ubuntu Python Base",
   "language": "python",
   "name": "base"
  },
  "language_info": {
   "codemirror_mode": {
    "name": "ipython",
    "version": 3
   },
   "file_extension": ".py",
   "mimetype": "text/x-python",
   "name": "python",
   "nbconvert_exporter": "python",
   "pygments_lexer": "ipython3",
   "version": "3.9.13"
  }
 },
 "nbformat": 4,
 "nbformat_minor": 5
}
